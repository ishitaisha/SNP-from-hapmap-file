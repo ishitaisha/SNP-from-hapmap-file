{
 "cells": [
  {
   "cell_type": "code",
   "execution_count": null,
   "id": "c5384fee",
   "metadata": {},
   "outputs": [],
   "source": [
    "import csv\n",
    "import numpy as np \n",
    "import pandas as pd\n"
   ]
  },
  {
   "cell_type": "code",
   "execution_count": null,
   "id": "af91f1fe",
   "metadata": {},
   "outputs": [],
   "source": [
    "# code to identify CA6 SNP from hapmap file \n",
    "with open(\"ishita.tsv\", \"r\") as hapmap:\n",
    "        tsv_reader = csv.reader(hapmap, delimiter=\"\\t\")\n",
    "        with open('Ca6_SNP', 'wt') as out_file:\n",
    "            tsv_writer = csv.writer(out_file)\n",
    "            for line in list(hapmap):\n",
    "                if line.startswith(\"Ca6\"):\n",
    "                    tsv_writer.writerow(line)\n",
    "                    print(line)\n",
    "                else:\n",
    "                    continue"
   ]
  },
  {
   "cell_type": "code",
   "execution_count": null,
   "id": "f5eb5ae2",
   "metadata": {},
   "outputs": [],
   "source": [
    "# code to identify CA2 SNP from hapmap file \n",
    "with open(\"ishita.tsv\", \"r\") as hapmap:\n",
    "        tsv_reader = csv.reader(hapmap, delimiter=\"\\t\")\n",
    "        with open('Ca2_SNP', 'wt') as out_file:\n",
    "            tsv_writer = csv.writer(out_file)\n",
    "            for line in list(hapmap):\n",
    "                if line.startswith(\"Ca2\"):\n",
    "                    tsv_writer.writerow(line)\n",
    "                else:\n",
    "                    continue"
   ]
  },
  {
   "cell_type": "code",
   "execution_count": null,
   "id": "1b5ab87e",
   "metadata": {},
   "outputs": [],
   "source": [
    "# code to identify CA3 SNP from hapmap file \n",
    "with open(\"ishita.tsv\", \"r\") as hapmap:\n",
    "        tsv_reader = csv.reader(hapmap, delimiter=\"\\t\")\n",
    "        with open('Ca3_SNP', 'wt') as out_file:\n",
    "            tsv_writer = csv.writer(out_file)\n",
    "            for line in list(hapmap):\n",
    "                if line.startswith(\"Ca3\"):\n",
    "                    tsv_writer.writerow(line)\n",
    "                    print(line)\n",
    "                else:\n",
    "                    continue"
   ]
  },
  {
   "cell_type": "code",
   "execution_count": null,
   "id": "407a02a2",
   "metadata": {},
   "outputs": [],
   "source": [
    "# code to identify CA4 SNP from hapmap file \n",
    "with open(\"ishita.tsv\", \"r\") as hapmap:\n",
    "        tsv_reader = csv.reader(hapmap, delimiter=\"\\t\")\n",
    "        with open('Ca4_SNP', 'wt') as out_file:\n",
    "            tsv_writer = csv.writer(out_file)\n",
    "            for line in list(hapmap):\n",
    "                if line.startswith(\"Ca4\"):\n",
    "                    tsv_writer.writerow(line)\n",
    "                    #print(line)\n",
    "                else:\n",
    "                    continue"
   ]
  }
 ],
 "metadata": {
  "kernelspec": {
   "display_name": "Python 3 (ipykernel)",
   "language": "python",
   "name": "python3"
  },
  "language_info": {
   "codemirror_mode": {
    "name": "ipython",
    "version": 3
   },
   "file_extension": ".py",
   "mimetype": "text/x-python",
   "name": "python",
   "nbconvert_exporter": "python",
   "pygments_lexer": "ipython3",
   "version": "3.9.13"
  }
 },
 "nbformat": 4,
 "nbformat_minor": 5
}
